{
  "nbformat": 4,
  "nbformat_minor": 0,
  "metadata": {
    "colab": {
      "name": "Algoritmos - Gerardo Gutiérrez - AG2.ipynb",
      "provenance": [],
      "collapsed_sections": [],
      "authorship_tag": "ABX9TyNvrXEskMztvr24/Pbp65it",
      "include_colab_link": true
    },
    "kernelspec": {
      "name": "python3",
      "display_name": "Python 3"
    },
    "language_info": {
      "name": "python"
    }
  },
  "cells": [
    {
      "cell_type": "markdown",
      "metadata": {
        "id": "view-in-github",
        "colab_type": "text"
      },
      "source": [
        "<a href=\"https://colab.research.google.com/github/MauGutierrez/03MAIR---Algoritmos-de-Optimizacion---2021/blob/main/AG2/Algoritmos_Gerardo_Guti%C3%A9rrez_AG2.ipynb\" target=\"_parent\"><img src=\"https://colab.research.google.com/assets/colab-badge.svg\" alt=\"Open In Colab\"/></a>"
      ]
    },
    {
      "cell_type": "markdown",
      "metadata": {
        "id": "xDBsVczmvMu8"
      },
      "source": [
        "**Actividad Guiada 2 de Algoritmos de Optimización**\n",
        "\n",
        "- **Nombre y apellidos:** Gerardo Mauricio Gutierrez Quintana\n",
        "- **URL Colab:** https://colab.research.google.com/drive/1xztTXliQwa9fBWhBfS6YXPtwsR8m_geY?usp=sharing"
      ]
    },
    {
      "cell_type": "markdown",
      "metadata": {
        "id": "Kq14vnOrvd66"
      },
      "source": [
        "# Viaje por el rio"
      ]
    },
    {
      "cell_type": "code",
      "metadata": {
        "colab": {
          "base_uri": "https://localhost:8080/",
          "height": 360
        },
        "id": "P0phIk_gvjU0",
        "outputId": "f9127d9a-7052-4275-fdb8-8d158b1f4fa7"
      },
      "source": [
        "TARIFAS = [\n",
        "           [0,5,4,3,9999,9999,9999],\n",
        "           [9999,0,9999,2,3,9999,11], \n",
        "           [9999,9999, 0,1,9999,4,10],\n",
        "           [9999,9999,9999, 0,5,6,9],\n",
        "           [9999,9999, 9999,9999,0,9999,4],\n",
        "           [9999,9999, 9999,9999,9999,0,3],\n",
        "           [9999,9999,9999,9999,9999,9999,0]\n",
        "          ]\n",
        "\n",
        "def Precios(TARIFAS):\n",
        "  #Total de Nodos\n",
        "  N = len(TARIFAS[0])\n",
        "  \n",
        "  #Inicialización de la tabla de precios\n",
        "  PRECIOS = [ [9999]*N for i in [9999]*N]\n",
        "  RUTA = [ [\"\"]*N for i in [\"\"]*N]\n",
        "  \n",
        "  for i in range(N-1):\n",
        "    for j in range(i+1, N):\n",
        "      MIN = TARIFAS[i][j]\n",
        "      RUTA[i][j] = i\n",
        "      \n",
        "      for k in range(i, j):\n",
        "        if PRECIOS[i][k] + TARIFAS[k][j] < MIN:\n",
        "            MIN = min(MIN, PRECIOS[i][k] + TARIFAS[k][j] )\n",
        "            RUTA[i][j] = k\n",
        "        PRECIOS[i][j] = MIN\n",
        "        \n",
        "  return PRECIOS,RUTA\n",
        "\n",
        "\n",
        "PRECIOS,RUTA = Precios(TARIFAS)  \n",
        "\n",
        "print(\"PRECIOS\")\n",
        "for i in range(len(TARIFAS)):\n",
        "  print(PRECIOS[i])\n",
        "\n",
        "print(\"\\nRUTA\")  \n",
        "for i in range(len(TARIFAS)):\n",
        "  print(RUTA[i])\n",
        "\n",
        "def calcular_ruta(RUTA, desde, hasta):\n",
        "  if desde == hasta:\n",
        "    return desde \n",
        "  else:\n",
        "    return str(calcular_ruta(RUTA, desde, RUTA[desde][hasta])) +  ',' + str(RUTA[desde][hasta]) \n",
        "\n",
        "print(\"\\nLa ruta es:\")  \n",
        "calcular_ruta(RUTA, 0,6)"
      ],
      "execution_count": 8,
      "outputs": [
        {
          "output_type": "stream",
          "text": [
            "PRECIOS\n",
            "[9999, 5, 4, 3, 8, 8, 11]\n",
            "[9999, 9999, 9999, 2, 3, 8, 7]\n",
            "[9999, 9999, 9999, 1, 6, 4, 7]\n",
            "[9999, 9999, 9999, 9999, 5, 6, 9]\n",
            "[9999, 9999, 9999, 9999, 9999, 9999, 4]\n",
            "[9999, 9999, 9999, 9999, 9999, 9999, 3]\n",
            "[9999, 9999, 9999, 9999, 9999, 9999, 9999]\n",
            "\n",
            "RUTA\n",
            "['', 0, 0, 0, 1, 2, 5]\n",
            "['', '', 1, 1, 1, 3, 4]\n",
            "['', '', '', 2, 3, 2, 5]\n",
            "['', '', '', '', 3, 3, 3]\n",
            "['', '', '', '', '', 4, 4]\n",
            "['', '', '', '', '', '', 5]\n",
            "['', '', '', '', '', '', '']\n",
            "\n",
            "La ruta es:\n"
          ],
          "name": "stdout"
        },
        {
          "output_type": "execute_result",
          "data": {
            "application/vnd.google.colaboratory.intrinsic+json": {
              "type": "string"
            },
            "text/plain": [
              "'0,0,2,5'"
            ]
          },
          "metadata": {
            "tags": []
          },
          "execution_count": 8
        }
      ]
    },
    {
      "cell_type": "markdown",
      "metadata": {
        "id": "ObVumwzFmIUP"
      },
      "source": [
        "# Problema de Asignacion de tarea"
      ]
    },
    {
      "cell_type": "code",
      "metadata": {
        "colab": {
          "base_uri": "https://localhost:8080/"
        },
        "id": "R2-45h_PQ9sX",
        "outputId": "bad199a3-fe60-4191-b8d9-81deef981e40"
      },
      "source": [
        "import itertools\n",
        "\n",
        "COSTES = [[11, 12, 18, 40],\n",
        "          [14, 15, 13, 22],\n",
        "          [11, 17, 19, 23],\n",
        "          [17, 14, 20, 28]]\n",
        "\n",
        "def valor(S, COSTES):\n",
        "  valor = 0\n",
        "  for i in range(len(S)):\n",
        "    valor += COSTES[i][S[i]]\n",
        "  \n",
        "  return valor\n",
        "\n",
        "def fuerza_bruta(COSTES):\n",
        "  mejor_valor = 10e10\n",
        "  mejor_solucion = ()\n",
        "\n",
        "  for s in list(itertools.permutations(range(len(COSTES)))):\n",
        "    valor_tmp = valor(s, COSTES)\n",
        "    if valor_tmp < mejor_valor:\n",
        "      mejor_valor = valor_tmp\n",
        "      mejor_solucion = s\n",
        "  \n",
        "  print(f'La mejor solucion es :{mejor_solucion}, con valor: {mejor_valor}')\n",
        "\n",
        "fuerza_bruta(COSTES)"
      ],
      "execution_count": 9,
      "outputs": [
        {
          "output_type": "stream",
          "text": [
            "La mejor solucion es :(0, 2, 3, 1), con valor: 61\n"
          ],
          "name": "stdout"
        }
      ]
    },
    {
      "cell_type": "code",
      "metadata": {
        "colab": {
          "base_uri": "https://localhost:8080/"
        },
        "id": "vrpG4wnpm5ie",
        "outputId": "bffed039-5f07-4647-edde-099f3532c943"
      },
      "source": [
        "'''\n",
        "     1   2   3   4\n",
        "  A0 [11, 12, 18, 40]\n",
        "  A1 [14, 15, 13, 22]\n",
        "  A2 [11, 17, 19, 23]\n",
        "  A3 [17, 14, 20, 28]\n",
        "  \n",
        "  A0 -> job1 = 11\n",
        "  A1 -> job2 = 15\n",
        "  A2 -> job3 = 19\n",
        "  A3 -> job4 = 28\n",
        "'''\n",
        "\n",
        "COSTES = [[11, 12, 18, 40],\n",
        "          [14, 15, 13, 22],\n",
        "          [11, 17, 19, 23],\n",
        "          [17, 14, 20, 28]]\n",
        "\n",
        "#Calculo del valor de una solucion parcial\n",
        "def valor(S,COSTES):\n",
        "  VALOR = 0\n",
        "  for i in range(len(S)):\n",
        "    VALOR += COSTES[S[i]][i] \n",
        "  return VALOR\n",
        "\n",
        "\n",
        "\n",
        "valor((0, 1, 2, 3  ),COSTES)"
      ],
      "execution_count": 10,
      "outputs": [
        {
          "output_type": "execute_result",
          "data": {
            "text/plain": [
              "73"
            ]
          },
          "metadata": {
            "tags": []
          },
          "execution_count": 10
        }
      ]
    },
    {
      "cell_type": "code",
      "metadata": {
        "colab": {
          "base_uri": "https://localhost:8080/"
        },
        "id": "_tx-lK4Jp_4e",
        "outputId": "3b00b529-a5d7-4eff-929c-6519c4a46a0a"
      },
      "source": [
        "#Coste inferior para soluciones parciales\n",
        "#  (1,3,) Se asigna la tarea 1 al agente 0 y la tarea 3 al agente 1\n",
        "\n",
        "def CI(S,COSTES):\n",
        "  VALOR = 0\n",
        "  #Valores establecidos\n",
        "  for i in range(len(S)):\n",
        "    VALOR += COSTES[i][S[i]]\n",
        "  #Estimacion\n",
        "  for i in range( len(S), len(COSTES)   ):\n",
        "    VALOR += min( [ COSTES[j][i] for j in range(len(S), len(COSTES))  ])\n",
        "    # print(VALOR)\n",
        "  return VALOR\n",
        "\n",
        "def CS(S,COSTES):\n",
        "  VALOR = 0\n",
        "  #Valores establecidos\n",
        "  for i in range(len(S)):\n",
        "    VALOR += COSTES[i][S[i]]\n",
        "\n",
        "  #Estimacion\n",
        "  for i in range( len(S), len(COSTES)   ):\n",
        "    VALOR += max( [ COSTES[j][i] for j in range(len(S), len(COSTES))  ])\n",
        "  return VALOR\n",
        "\n",
        "CS((0,1),COSTES)\n",
        "\n",
        "#Genera tantos hijos como como posibilidades haya para la siguiente elemento de la tupla\n",
        "#(0,) -> (0,1), (0,2), (0,3)\n",
        "def crear_hijos(NODO, N):\n",
        "  HIJOS = []\n",
        "  for i in range(N ):\n",
        "    if i not in NODO:\n",
        "      HIJOS.append({'s':NODO +(i,)    })\n",
        "  return HIJOS\n",
        "\n",
        "def ramificacion_y_poda(COSTES):\n",
        "#Construccion iterativa de soluciones(arbol). En cada etapa asignamos un agente(ramas).\n",
        "#Nodos del grafo  { s:(1,2),CI:3,CS:5  }\n",
        "  #print(COSTES)\n",
        "  DIMENSION = len(COSTES)  \n",
        "  MEJOR_SOLUCION=tuple( i for i in range(len(COSTES)) )\n",
        "  # print(MEJOR_SOLUCION)\n",
        "  CotaSup = valor(MEJOR_SOLUCION,COSTES)\n",
        "  #print(\"Cota Superior:\", CotaSup)\n",
        "\n",
        "  NODOS=[]\n",
        "  NODOS.append({'s':(), 'ci':CI((),COSTES)    } )\n",
        "  # print(CotaSup)\n",
        "  # print(NODOS)\n",
        "  iteracion = 0\n",
        "\n",
        "  while( len(NODOS) > 0):\n",
        "    iteracion +=1\n",
        "    # print(\"NODOS\")\n",
        "    # print(NODOS)\n",
        "    nodo_prometedor = [ min(NODOS, key=lambda x:x['ci']) ][0]['s']\n",
        "    # print(\"NODO PROMETEDOR\")\n",
        "    # print(nodo_prometedor)\n",
        "    #print(\"Nodo prometedor:\", nodo_prometedor)\n",
        "\n",
        "    #Ramificacion\n",
        "    #Se generan los hijos\n",
        "    HIJOS =[ {'s':x['s'], 'ci':CI(x['s'], COSTES)   } for x in crear_hijos(nodo_prometedor, DIMENSION) ]\n",
        "    # print(\"HIJOS\")\n",
        "    # print(HIJOS)\n",
        "    #Revisamos la cota superior y nos quedamos con la mejor solucion si llegamos a una solucion final\n",
        "    NODO_FINAL = [x for x in HIJOS if len(x['s']) == DIMENSION  ]\n",
        "    # print(NODO_FINAL)\n",
        "    if len(NODO_FINAL ) >0: \n",
        "      #print(\"\\n********Soluciones:\",  [x for x in HIJOS if len(x['s']) == DIMENSION  ] )\n",
        "      if NODO_FINAL[0]['ci'] < CotaSup:\n",
        "        CotaSup = NODO_FINAL[0]['ci']\n",
        "        MEJOR_SOLUCION = NODO_FINAL\n",
        " \n",
        "    #Poda\n",
        "    HIJOS = [x for x in HIJOS if x['ci'] < CotaSup   ]\n",
        "\n",
        "    #Añadimos los hijos \n",
        "    NODOS.extend(HIJOS) \n",
        "\n",
        "    #Eliminamos el nodo ramificado\n",
        "    NODOS =  [  x for x in NODOS if x['s'] != nodo_prometedor    ]\n",
        "   \n",
        "  print(\"La solucion final es:\" ,MEJOR_SOLUCION , \" en \" , iteracion , \" iteraciones\" , \" para dimension: \" ,DIMENSION  )\n",
        "      \n",
        "\n",
        "\n",
        "ramificacion_y_poda(COSTES)"
      ],
      "execution_count": 11,
      "outputs": [
        {
          "output_type": "stream",
          "text": [
            "La solucion final es: [{'s': (1, 2, 0, 3), 'ci': 64}]  en  10  iteraciones  para dimension:  4\n"
          ],
          "name": "stdout"
        }
      ]
    },
    {
      "cell_type": "markdown",
      "metadata": {
        "id": "pyJhvTOiTXDS"
      },
      "source": [
        "# Análisis para mejorar nota"
      ]
    },
    {
      "cell_type": "markdown",
      "metadata": {
        "id": "pdFKzoy7Ti9S"
      },
      "source": [
        "### ¿Qué complejidad tiene el algoritmo por fuerza bruta?\n",
        "\n",
        "Dado que iteramos por todas las permutaciones posibles de la matriz de costos, este algoritmo tiene una complejidad de $O(n!)$ donde $n$ es el tamaño de la matriz de costos."
      ]
    },
    {
      "cell_type": "markdown",
      "metadata": {
        "id": "NcboKwMGWeld"
      },
      "source": [
        "### Generar matrices con valores aleatorios de mayores dimensiones y ejecutar ambos algoritmos.\n"
      ]
    },
    {
      "cell_type": "code",
      "metadata": {
        "colab": {
          "base_uri": "https://localhost:8080/"
        },
        "id": "4agJXcSgT_DJ",
        "outputId": "c716f88b-f1bd-48ff-fab9-80c72c5031a3"
      },
      "source": [
        "import numpy as np\n",
        "import time\n",
        "\n",
        "def generar_tomas_aleatorias(n):\n",
        "  \"\"\"\n",
        "  Funcion para generar una matriz de datos aleatorios\n",
        "  \"\"\"\n",
        "\n",
        "  datos_random = []\n",
        "\n",
        "  for i in range(n):\n",
        "    jobs = []\n",
        "    for i in range(n):\n",
        "      jobs.append(np.random.randint(10, 50))\n",
        "\n",
        "    np.random.shuffle(jobs)\n",
        "    datos_random.append(jobs)\n",
        "\n",
        "  return datos_random\n",
        "\n",
        "costos_1 = generar_tomas_aleatorias(5)\n",
        "costos_2 = generar_tomas_aleatorias(6)\n",
        "costos_3 = generar_tomas_aleatorias(7)\n",
        "costos_4 = generar_tomas_aleatorias(8)\n",
        "costos_5 = generar_tomas_aleatorias(10)\n",
        "\n",
        "##### Matriz de tamaño 5\n",
        "print(f'Matriz de tamaño 5')\n",
        "start_fuerza_bruta = time.time()\n",
        "fuerza_bruta(costos_1)\n",
        "stop_fuerza_bruta = time.time()\n",
        "print(f'Tiempo de ejecución de algoritmo por fuerza bruta: {stop_fuerza_bruta - start_fuerza_bruta}')\n",
        "\n",
        "start_branch_and_bound = time.time()\n",
        "ramificacion_y_poda(costos_1)\n",
        "stop_branch_and_bound = time.time()\n",
        "print(f'Tiempo de ejecución de algoritmo branch and bound: {stop_branch_and_bound - start_branch_and_bound} \\n')\n",
        "\n",
        "\n",
        "##### Matriz de tamaño 6\n",
        "print(f'Matriz de tamaño 6')\n",
        "start_fuerza_bruta = time.time()\n",
        "fuerza_bruta(costos_2)\n",
        "stop_fuerza_bruta = time.time()\n",
        "print(f'Tiempo de ejecución de algoritmo por fuerza bruta: {stop_fuerza_bruta - start_fuerza_bruta}')\n",
        "\n",
        "start_branch_and_bound = time.time()\n",
        "ramificacion_y_poda(costos_2)\n",
        "stop_branch_and_bound = time.time()\n",
        "print(f'Tiempo de ejecución de algoritmo branch and bound: {stop_branch_and_bound - start_branch_and_bound} \\n')\n",
        "\n",
        "##### Matriz de tamaño 7\n",
        "print(f'Matriz de tamaño 7')\n",
        "start_fuerza_bruta = time.time()\n",
        "fuerza_bruta(costos_3)\n",
        "stop_fuerza_bruta = time.time()\n",
        "print(f'Tiempo de ejecución de algoritmo por fuerza bruta: {stop_fuerza_bruta - start_fuerza_bruta}')\n",
        "\n",
        "start_branch_and_bound = time.time()\n",
        "ramificacion_y_poda(costos_3)\n",
        "stop_branch_and_bound = time.time()\n",
        "print(f'Tiempo de ejecución de algoritmo branch and bound: {stop_branch_and_bound - start_branch_and_bound} \\n')\n",
        "\n",
        "##### Matriz de tamaño 8\n",
        "print(f'Matriz de tamaño 8')\n",
        "start_fuerza_bruta = time.time()\n",
        "fuerza_bruta(costos_4)\n",
        "stop_fuerza_bruta = time.time()\n",
        "print(f'Tiempo de ejecución de algoritmo por fuerza bruta: {stop_fuerza_bruta - start_fuerza_bruta}')\n",
        "\n",
        "start_branch_and_bound = time.time()\n",
        "ramificacion_y_poda(costos_4)\n",
        "stop_branch_and_bound = time.time()\n",
        "print(f'Tiempo de ejecución de algoritmo branch and bound: {stop_branch_and_bound - start_branch_and_bound} \\n')\n",
        "\n",
        "##### Matriz de tamaño 9\n",
        "print(f'Matriz de tamaño 10')\n",
        "start_fuerza_bruta = time.time()\n",
        "fuerza_bruta(costos_5)\n",
        "stop_fuerza_bruta = time.time()\n",
        "print(f'Tiempo de ejecución de algoritmo por fuerza bruta: {stop_fuerza_bruta - start_fuerza_bruta}')\n",
        "\n",
        "start_branch_and_bound = time.time()\n",
        "ramificacion_y_poda(costos_5)\n",
        "stop_branch_and_bound = time.time()\n",
        "print(f'Tiempo de ejecución de algoritmo branch and bound: {stop_branch_and_bound - start_branch_and_bound} \\n')"
      ],
      "execution_count": 13,
      "outputs": [
        {
          "output_type": "stream",
          "text": [
            "Matriz de tamaño 5\n",
            "La mejor solucion es :(2, 4, 3, 1, 0), con valor: 69\n",
            "Tiempo de ejecución de algoritmo por fuerza bruta: 0.00040984153747558594\n",
            "La solucion final es: [{'s': (4, 3, 0, 2, 1), 'ci': 69}]  en  52  iteraciones  para dimension:  5\n",
            "Tiempo de ejecución de algoritmo branch and bound: 0.0022306442260742188 \n",
            "\n",
            "Matriz de tamaño 6\n",
            "La mejor solucion es :(2, 4, 5, 3, 1, 0), con valor: 138\n",
            "Tiempo de ejecución de algoritmo por fuerza bruta: 0.0011227130889892578\n",
            "La solucion final es: [{'s': (5, 4, 0, 3, 1, 2), 'ci': 138}]  en  209  iteraciones  para dimension:  6\n",
            "Tiempo de ejecución de algoritmo branch and bound: 0.00747227668762207 \n",
            "\n",
            "Matriz de tamaño 7\n",
            "La mejor solucion es :(4, 3, 6, 0, 5, 1, 2), con valor: 100\n",
            "Tiempo de ejecución de algoritmo por fuerza bruta: 0.006536722183227539\n",
            "La solucion final es: [{'s': (5, 4, 6, 1, 0, 3, 2), 'ci': 100}]  en  122  iteraciones  para dimension:  7\n",
            "Tiempo de ejecución de algoritmo branch and bound: 0.0047872066497802734 \n",
            "\n",
            "Matriz de tamaño 8\n",
            "La mejor solucion es :(6, 1, 3, 2, 0, 5, 7, 4), con valor: 132\n",
            "Tiempo de ejecución de algoritmo por fuerza bruta: 0.058168649673461914\n",
            "La solucion final es: [{'s': (5, 4, 3, 2, 7, 1, 0, 6), 'ci': 132}]  en  2778  iteraciones  para dimension:  8\n",
            "Tiempo de ejecución de algoritmo branch and bound: 0.5785706043243408 \n",
            "\n",
            "Matriz de tamaño 10\n",
            "La mejor solucion es :(7, 0, 2, 8, 6, 9, 1, 5, 3, 4), con valor: 150\n",
            "Tiempo de ejecución de algoritmo por fuerza bruta: 5.350375175476074\n",
            "La solucion final es: [{'s': (1, 6, 2, 3, 9, 5, 8, 0, 7, 4), 'ci': 170}]  en  7286  iteraciones  para dimension:  10\n",
            "Tiempo de ejecución de algoritmo branch and bound: 4.657428503036499 \n",
            "\n"
          ],
          "name": "stdout"
        }
      ]
    },
    {
      "cell_type": "markdown",
      "metadata": {
        "id": "Ho4WJGljaDIa"
      },
      "source": [
        "### ¿A partir de que dimensión el algoritmo por fuerza bruta deja de ser una opción?\n",
        "\n",
        "En nuestro experimento con una matriz de datos aleatorios, el algoritmo por fuerza bruta deja de ser una solución viable a partir de una dimensión de 10x10. \n",
        "\n",
        "Podemos ver que para dimensiones no muy grandes el algoritmo por fuerza bruta presenta un rendimiento similar e incluso en ocasiones mejor al algoritmo de branch and bound, sin embargo, a partir de una dimension de 10, el algoritmo por fuerza bruta tarda aproximadamente 5 segundos en terminar.\n",
        "\n",
        "Ya que iteramos como tantas permutaciones haya, es entendible que el algoritmo por fuerza bruta tenga un rendimiento peor, pues para obtener la solución optima, tenemos que iterar a través de una lista de tamaño $10!$ lo que es igual a $3,628, 800$ iteraciones."
      ]
    },
    {
      "cell_type": "markdown",
      "metadata": {
        "id": "y85SOFiVdyYB"
      },
      "source": [
        "### Hay algún valor para la dimensión a partir de la cual el algoritmo de ramificación y poda deja de ser una opción válida?\n",
        "\n",
        "Intuitivamente podemos decir que al igual que para el algoritmo de fuerza bruta, el algoritmo de ramificación y poda deja de ser una opción viable. En nuestro experimento para determinar el tiempo de ejecución, para una matriz con datos aleatorios de dimensión 10x10, el algoritmo tuvo un tiempo de ejecución aproximado de 4 segundos.\n",
        "\n",
        "Aunque no es el más óptimo, podemos decir que para problemas de dimensiones no tan grandes presentará una mejora en el tiempo de ejecución comparado con el algoritmo por fuerza bruta. Sin embargo, aunque presente una mejora en el tiempo de ejecución, es importante señalar que este algoritmo no es eficiente para problemas de grandes dimensiones. \n",
        "\n",
        "Una alternativa al algoritmo de ramificación y poda para resolver problemas de optimización podría ser el Algoritmo Húngaro. Este algoritmo tiene una complejidad de $O(n^3)$"
      ]
    },
    {
      "cell_type": "markdown",
      "metadata": {
        "id": "sBlEUOs2OlZ_"
      },
      "source": [
        "# Descenso del gradiente"
      ]
    },
    {
      "cell_type": "code",
      "metadata": {
        "colab": {
          "base_uri": "https://localhost:8080/",
          "height": 282
        },
        "id": "H0kfJ953OsTa",
        "outputId": "fb703566-6a27-480e-bd16-5e13195803d6"
      },
      "source": [
        "import math                      \n",
        "import matplotlib.pyplot as plt  \n",
        "import numpy as np               \n",
        "import random\n",
        "\n",
        "#Definimos la funcion paraboloide\n",
        "\n",
        "f  = lambda X:      X[0]**2+X[1]**2\n",
        "df = lambda X: [2*X[0] , 2*X[1]]\n",
        "\n",
        "#Prepara los datos para dibujar mapa de niveles de Z\n",
        "resolucion = 100 \n",
        "rango=2.5\n",
        "X=np.linspace(-rango,rango,resolucion) \n",
        "Y=np.linspace(-rango,rango,resolucion)\n",
        "Z=np.zeros((resolucion,resolucion))\n",
        "for ix,x in enumerate(X):\n",
        "  for iy,y in enumerate(Y):\n",
        "    Z[iy,ix] = f([x,y])\n",
        "\n",
        "#Pinta el mapa de niveles de Z\n",
        "plt.contourf(X,Y,Z,resolucion)\n",
        "plt.colorbar() \n",
        "\n",
        "#Generamos un punto aleatorio\n",
        "P=[random.uniform(-2,2  ),random.uniform(-2,2 ) ]\n",
        "plt.plot(P[0],P[1],\"o\",c=\"white\")\n",
        "\n",
        "#Tasa de aprendizaje\n",
        "TA=.1 \n",
        "\n",
        "#Iteraciones\n",
        "for _ in range(500):\n",
        "  grad = df(P)\n",
        "  #print(P,grad)\n",
        "  P[0],P[1] = P[0] - TA*grad[0] , P[1] - TA*grad[1]\n",
        "  plt.plot(P[0],P[1],\"o\",c=\"red\")\n",
        "\n",
        "plt.plot(P[0],P[1],\"o\",c=\"green\")\n",
        "plt.show()\n",
        "print(\"Solucion:\" , P , f(P))"
      ],
      "execution_count": null,
      "outputs": [
        {
          "output_type": "display_data",
          "data": {
            "image/png": "[encoded data removed]",
            "text/plain": [
              "<Figure size 432x288 with 2 Axes>"
            ]
          },
          "metadata": {
            "tags": [],
            "needs_background": "light"
          }
        },
        {
          "output_type": "stream",
          "text": [
            "Solucion: [4.8771140983880554e-49, 2.491942162036724e-49] 2.99960176676318e-97\n"
          ],
          "name": "stdout"
        }
      ]
    },
    {
      "cell_type": "code",
      "metadata": {
        "id": "lLD2BcVOjbbl",
        "colab": {
          "base_uri": "https://localhost:8080/",
          "height": 265
        },
        "outputId": "e82c89ef-b424-4772-c998-d5e3ddd0fc4b"
      },
      "source": [
        "# Nota: Esta es otra función a la que aplicaremos el algoritmo de descenso del gradiente\n",
        "# a diferencia del ejercicio propuesto en clase, esta es una función en 2d\n",
        "\n",
        "import numpy as np\n",
        "import matplotlib.pyplot as plt\n",
        "import decimal\n",
        "import random\n",
        "import math\n",
        "\n",
        "f_gradiente = lambda x: (12*(x[0]**3)) + (12*(x[0]**2)) - (24*x[0])\n",
        "f_x = lambda x: (3*(x[0]**4)) + (4*(x[0]**3)) - (12*(x[0]**2)) + 7\n",
        "\n",
        "resolucion = 100\n",
        "rango = 2.5\n",
        "x = np.linspace(-rango, rango, resolucion)\n",
        "y = np.zeros(resolucion)\n",
        "\n",
        "for ix, i in enumerate(x):\n",
        "    y[ix] = f_x([i])\n",
        "\n",
        "plt.plot(x, y)\n",
        "\n",
        "random_number = int(random.uniform(0, len(x)-1))\n",
        "P = np.array([x[random_number], y[random_number]])\n",
        "plt.plot(P[0], P[1], \"o\", c=\"black\")\n",
        "\n",
        "taza_aprendizaje = .001\n",
        "\n",
        "for _ in range(500):\n",
        "  x_anterior = P\n",
        "  P[1] = f_x(x_anterior)\n",
        "  P[0] -= np.dot(taza_aprendizaje, f_gradiente(x_anterior))\n",
        "  plt.plot(P[0], P[1], \"o\", c=\"red\")\n",
        "\n",
        "plt.plot(P[0], P[1], \"o\", c=\"green\")\n",
        "plt.show()"
      ],
      "execution_count": null,
      "outputs": [
        {
          "output_type": "display_data",
          "data": {
            "image/png": "[encoded data removed]",
            "text/plain": [
              "<Figure size 432x288 with 1 Axes>"
            ]
          },
          "metadata": {
            "tags": [],
            "needs_background": "light"
          }
        }
      ]
    }
  ]
}