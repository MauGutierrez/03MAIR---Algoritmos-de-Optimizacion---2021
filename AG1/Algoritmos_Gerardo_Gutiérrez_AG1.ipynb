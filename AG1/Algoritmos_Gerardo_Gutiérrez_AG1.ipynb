{
  "nbformat": 4,
  "nbformat_minor": 0,
  "metadata": {
    "colab": {
      "name": "Algoritmos - Gerardo Gutiérrez - AG1.ipynb",
      "provenance": [],
      "collapsed_sections": [],
      "authorship_tag": "ABX9TyOTBChTGUCRxn+dMY/C6Fei",
      "include_colab_link": true
    },
    "kernelspec": {
      "name": "python3",
      "display_name": "Python 3"
    },
    "language_info": {
      "name": "python"
    }
  },
  "cells": [
    {
      "cell_type": "markdown",
      "metadata": {
        "id": "view-in-github",
        "colab_type": "text"
      },
      "source": [
        "<a href=\"https://colab.research.google.com/github/MauGutierrez/03MAIR---Algoritmos-de-Optimizacion---2021/blob/main/AG1/Algoritmos_Gerardo_Guti%C3%A9rrez_AG1.ipynb\" target=\"_parent\"><img src=\"https://colab.research.google.com/assets/colab-badge.svg\" alt=\"Open In Colab\"/></a>"
      ]
    },
    {
      "cell_type": "markdown",
      "metadata": {
        "id": "yejCjJGNJpr_"
      },
      "source": [
        "**Actividad Guiada 1 de Algoritmos de Optimización**\n",
        "\n",
        "- **Nombre y apellidos**: Gerardo Mauricio Gutierrez Quintana\n",
        "- **URL Colab:** https://colab.research.google.com/drive/12W5nzIHjdMdAhTMMuzf6w7YwT5Eo2sm2?usp=sharing\n",
        "- **URL Github:** https://github.com/MauGutierrez/03MAIR---Algoritmos-de-Optimizacion---2021/tree/main/AG1\n"
      ]
    },
    {
      "cell_type": "markdown",
      "metadata": {
        "id": "agdD9q1OIhi7"
      },
      "source": [
        "# Torres de Hanoi - Divide y Venceras"
      ]
    },
    {
      "cell_type": "code",
      "metadata": {
        "colab": {
          "base_uri": "https://localhost:8080/"
        },
        "id": "1JEqlVIzIm2A",
        "outputId": "652fb2fd-9afb-4224-83df-ae59f721b84d"
      },
      "source": [
        "# Resolvemos recursivamente el problema\n",
        "def torres_hanoi(n, torre_inicio, torre_aux, torre_final):\n",
        "    # caso base cuando solo tenemos que mover una pieza\n",
        "    if n == 1:\n",
        "        print(f'Mover {torre_inicio} a {torre_final}')\n",
        "    else:\n",
        "        # Queremos mover a la torre auxiliar\n",
        "        torres_hanoi(n-1, torre_inicio, torre_final, torre_aux)\n",
        "        print(f'Mover {torre_inicio} a {torre_final}')\n",
        "        # Queremos mover desde la torre auxiliar \n",
        "        torres_hanoi(n-1, torre_aux, torre_inicio, torre_final)\n",
        "\n",
        "torres_hanoi(3, 1, 2, 3)"
      ],
      "execution_count": 1,
      "outputs": [
        {
          "output_type": "stream",
          "text": [
            "Mover 1 a 3\n",
            "Mover 1 a 2\n",
            "Mover 3 a 2\n",
            "Mover 1 a 3\n",
            "Mover 2 a 1\n",
            "Mover 2 a 3\n",
            "Mover 1 a 3\n"
          ],
          "name": "stdout"
        }
      ]
    },
    {
      "cell_type": "markdown",
      "metadata": {
        "id": "L0F1murhI3XC"
      },
      "source": [
        "# Cambio de monedas - Técnica Voraz\n"
      ]
    },
    {
      "cell_type": "code",
      "metadata": {
        "colab": {
          "base_uri": "https://localhost:8080/"
        },
        "id": "CywMbWQeJAWv",
        "outputId": "561b379c-c5a7-46fe-b9d9-2d0292b7e120"
      },
      "source": [
        "def cambio_monedas(cantidad, sistema_monetario):\n",
        "    n = len(sistema_monetario)\n",
        "    solucion = [0]*n\n",
        "    valor_acumulado = 0\n",
        "    # Calculamos la cantidad de monedas necesarias por moneda del sistema monetario\n",
        "    for i in range(n):\n",
        "        monedas = int((cantidad-valor_acumulado)/sistema_monetario[i])\n",
        "        solucion[i] = monedas\n",
        "        valor_acumulado += monedas * sistema_monetario[i]\n",
        "        # si la cantidad acumulada es igual a la cantidad terminamos el problema\n",
        "        if valor_acumulado == cantidad:\n",
        "            return solucion\n",
        "\n",
        "    return solucion\n",
        "\n",
        "print(cambio_monedas(48, [25, 10, 5, 1]))"
      ],
      "execution_count": 2,
      "outputs": [
        {
          "output_type": "stream",
          "text": [
            "[1, 2, 0, 3]\n"
          ],
          "name": "stdout"
        }
      ]
    },
    {
      "cell_type": "markdown",
      "metadata": {
        "id": "VvP9n2cEJyov"
      },
      "source": [
        "# N Reinas - Vuelta Atrás"
      ]
    },
    {
      "cell_type": "code",
      "metadata": {
        "colab": {
          "base_uri": "https://localhost:8080/"
        },
        "id": "Icxg6HcEJ80W",
        "outputId": "8df5401f-6760-43d5-b019-661aac79bc1b"
      },
      "source": [
        "# funcion helper para detectar si hay un elemento\n",
        "# en la misma fila o amenaza entre diagonales\n",
        "def solucion_prometedora(solucion, etapa):\n",
        "    n = etapa\n",
        "    for i in range(n+1):\n",
        "        # Checar amenaza entre renglones\n",
        "        if solucion.count(solucion[i]) > 1:\n",
        "            return False\n",
        "        # Checar amenaza entre diagonales\n",
        "        for j in range(i+1, n+1):\n",
        "            if abs(i-j) == abs(solucion[i]- solucion[j]):\n",
        "                return False\n",
        "    # Si terminamos de iterar el array solucion y quiere decir que no hay amenaza\n",
        "    return True\n",
        "\n",
        "def reinas(n, solucion=[], etapa=0):\n",
        "    # Inicializamos el array solucion\n",
        "    if len(solucion) == 0:\n",
        "        solucion = [0 for i in range(n)]\n",
        "    \n",
        "    # Iteramos a través del tablero\n",
        "    for i in range(1, n+1):\n",
        "        # Colocamos una reina en el primer lugar disponible de la fila\n",
        "        solucion[etapa] = i\n",
        "        # Si no hay amenaza\n",
        "        if solucion_prometedora(solucion, etapa):\n",
        "            # si la etapa es igual a la dimension del tablero, hemos terminado\n",
        "            if etapa == n-1:\n",
        "                print(solucion)\n",
        "            # si no, todavía tenemos que seguir iterando con las siguientes reinas\n",
        "            else:\n",
        "                reinas(n, solucion, etapa+1)\n",
        "        else:\n",
        "            None\n",
        "    # No hay solucion para cierta reina\n",
        "    solucion[etapa] = 0\n",
        "\n",
        "reinas(4)"
      ],
      "execution_count": 3,
      "outputs": [
        {
          "output_type": "stream",
          "text": [
            "[2, 4, 1, 3]\n",
            "[3, 1, 4, 2]\n"
          ],
          "name": "stdout"
        }
      ]
    },
    {
      "cell_type": "markdown",
      "metadata": {
        "id": "wR8SCK5bLrwK"
      },
      "source": [
        "# Practica Individual"
      ]
    },
    {
      "cell_type": "markdown",
      "metadata": {
        "id": "tPusuj1QUsho"
      },
      "source": [
        "# Encontrar los dos puntos más cercanos por Fuerza Bruta"
      ]
    },
    {
      "cell_type": "code",
      "metadata": {
        "colab": {
          "base_uri": "https://localhost:8080/"
        },
        "id": "P65HgpDHLwym",
        "outputId": "18add630-38fa-4558-ef90-4cfd7796266e"
      },
      "source": [
        "import random\n",
        "import time\n",
        "\n",
        "\n",
        "def fuerza_bruta(lista):\n",
        "  minimia_distancia = 99999\n",
        "  puntos = []\n",
        "\n",
        "  for i in range(len(lista)):\n",
        "    distancia_parcial = 0\n",
        "    for j in range(len(lista)):\n",
        "      if (i != j) and (lista[i] != lista[j]):\n",
        "        distancia_parcial = abs(lista[i] - lista[j])\n",
        "        if distancia_parcial < minimia_distancia:\n",
        "          minimia_distancia = distancia_parcial\n",
        "          puntos = [lista[i], lista[j]]\n",
        "\n",
        "  return puntos, minimia_distancia\n",
        "\n",
        "lista_1d = [random.randrange(1, 10000) for x in range(2000)]\n",
        "start = time.time()\n",
        "dos_puntos, distancia = fuerza_bruta(lista_1d)\n",
        "stop = time.time()\n",
        "\n",
        "print(f'La distancia minima entre los puntos {dos_puntos} es : {distancia}')\n",
        "print(f'Tiempo de ejecución algoritmo por fuerza bruta: {stop-start}')"
      ],
      "execution_count": 4,
      "outputs": [
        {
          "output_type": "stream",
          "text": [
            "La distancia minima entre los puntos [7222, 7223] es : 1\n",
            "Tiempo de ejecución algoritmo por fuerza bruta: 1.3008148670196533\n"
          ],
          "name": "stdout"
        }
      ]
    },
    {
      "cell_type": "markdown",
      "metadata": {
        "id": "_qQMAWlkRGnw"
      },
      "source": [
        "# Cálculo de la complejidad Algoritmo Fuerza Bruta\n",
        "\n",
        "Despreciando la complejidad del ciclo donde inicializamos la lista, podemos decir que el algoritmo por fuerza bruta tiene una complejidad de $O(n^2)$ donde $n$ será la longitud de nuestra lista. \n",
        "\n",
        "Decimos que tiene una complejidad de orden cuadrático ya que para cada elemento del array iteramos $n$ veces para encontrar las distancias menores. Por lo tanto, para los $n$ elementos de la lista, iteramos $n$ veces.\n",
        "\n",
        "Intuitivamente podríamos mejorar el algoritmo cuando se encuentren dos puntos con una distancia igual a $1$, ya que es la menor distnacia posible que puede haber entre un par de puntos diferentes. \n",
        "\n",
        "Con la propuesta antes mencionada, en el mejor de los casos podríamos tener una complejidad de $O(1)$ suponiendo que para el primer par de puntos que comparemos la distancia sea igual a $1$, por lo tanto, solo habríamos recorrido la lista una vez. \n",
        "\n",
        "En el peor de los casos la complejidad seguira siendo $O(n^2)$ suponiendo que los puntos con menor distancia sean el penultimo y ultimo de la lista. De ser así habría que iterar todos los elementos dos veces hasta encontrar la menor distancia."
      ]
    },
    {
      "cell_type": "markdown",
      "metadata": {
        "id": "8LWqDc8vUnDk"
      },
      "source": [
        "# Encontrar los dos puntos más cercanos por Divide y Vencerás Lista 1D"
      ]
    },
    {
      "cell_type": "code",
      "metadata": {
        "colab": {
          "base_uri": "https://localhost:8080/"
        },
        "id": "RB5ZkbSyU_Qg",
        "outputId": "05614769-37ed-4635-871c-6313064dd08d"
      },
      "source": [
        "import random\n",
        "import math\n",
        "import time\n",
        "\n",
        "def merge_sort(array):\n",
        "  if len(array) > 1:\n",
        "    mid = len(array) // 2\n",
        "    izquierda = array[:mid]\n",
        "    derecha = array[mid:]\n",
        "\n",
        "    merge_sort(izquierda)\n",
        "    merge_sort(derecha)\n",
        "\n",
        "    i = j = k = 0\n",
        "\n",
        "    while i < len(izquierda) and j < len(derecha):\n",
        "      if izquierda[i] < derecha[j]:\n",
        "        array[k] = izquierda[i]\n",
        "        i += 1\n",
        "      else:\n",
        "        array[k] = derecha[j]\n",
        "        j += 1\n",
        "      k += 1\n",
        "    \n",
        "    while i < len(izquierda):\n",
        "      array[k] = izquierda[i]\n",
        "      i += 1\n",
        "      k += 1\n",
        "\n",
        "    while j < len(derecha):\n",
        "      array[k] = derecha[j]\n",
        "      j += 1\n",
        "      k += 1\n",
        "\n",
        "def minima_distancia(array):\n",
        "  minima_distancia = 9999\n",
        "  puntos = []\n",
        "  for i in range(0, len(array)-1):\n",
        "    if array[i] != array[i+1]:\n",
        "      distancia_parcial = abs(array[i] - array[i+1])\n",
        "      if distancia_parcial < minima_distancia:\n",
        "        puntos = [array[i], array[i+1]]\n",
        "        minima_distancia = distancia_parcial\n",
        "\n",
        "  return puntos, minima_distancia\n",
        "\n",
        "lista_1d = [random.randrange(1, 10000) for x in range(2000)]\n",
        "\n",
        "start = time.time()\n",
        "merge_sort(lista_1d)\n",
        "dos_puntos, distancia = minima_distancia(lista_1d)\n",
        "stop = time.time()\n",
        "\n",
        "\n",
        "print(f'La distancia minima entre los puntos {dos_puntos} es : {distancia}')\n",
        "print(f'Tiempo de ejecución algoritmo por fuerza bruta: {stop-start}')"
      ],
      "execution_count": 10,
      "outputs": [
        {
          "output_type": "stream",
          "text": [
            "La distancia minima entre los puntos [22, 23] es : 1\n",
            "Tiempo de ejecución algoritmo por fuerza bruta: 0.011330842971801758\n"
          ],
          "name": "stdout"
        }
      ]
    },
    {
      "cell_type": "markdown",
      "metadata": {
        "id": "DNYAh9omkK1B"
      },
      "source": [
        "# Cálculo de la complejidad Algoritmo Divide y Vencerás\n",
        "\n",
        "Después de ejecutar los algortimos de fuerza bruta y Divide y Vencerás en una lista con datos aleatorios del mismo tamaño, podemos observar que el algoritmo de Divide y Vencerás ofrece un mejor tiempo de ejecución. \n",
        "\n",
        "Comparando ambos resultados, podemos observar que Divide y Vencerás tuvo un tiempo de ejecución aproximadamente $100$ veces más rápido.\n",
        "\n",
        "Podemos decir que el Algoritmo de Divide y Vencerás tiene una complejidad en todos los casos (peor, promedio y mejor) de $O(n \\cdot Log \\cdot n)$ por lo siguiente:\n",
        "- El algoritmo siempre divide en mitades la cada lista que es recibida, por lo tanto hiremos reduciendo el problema original con una complejidad de $O(Log \\cdot n)$ donde $n$ es el tamaño de la lista inicial.\n",
        "\n",
        "- Una vez dividida la lista, hacemos $n$ operaciones para realizar el merge y de ambas listas en la lista original. Por lo tanto, para el Merge tenemos una complejidad de $O(n)$\n",
        "\n",
        "- Al combinar ambas complejidades, obtenemos una complejidad total de $O(n \\cdot Log \\cdot n)$\n",
        "\n",
        "Aunque el algoritmo de Merge sort es muy eficiente en tiempo de ejecución, tiene la desventaja de que requiere de espacio adicional para realizar el ordenamiento. Si en nuestro caso quisieramos optimizar la complejidad en el espacio utilizado, podríamos utilizar otra alternativa llamada Quick Sort, sin embargo, a diferencia del merge sort donde en los 3 casos tiene la misma complejidad, en quick sort en el peor de los casos tenemos una complejidad de $O(n^2)$"
      ]
    },
    {
      "cell_type": "markdown",
      "metadata": {
        "id": "q19KeJHDnqZf"
      },
      "source": [
        "# Encontrar los dos puntos más cercanos por Divide y Vencerás Lista 2D "
      ]
    },
    {
      "cell_type": "code",
      "metadata": {
        "colab": {
          "base_uri": "https://localhost:8080/"
        },
        "id": "MK300LaOrL90",
        "outputId": "c83af51d-1deb-4b6b-93bd-fcd820186fda"
      },
      "source": [
        "import random\n",
        "import math\n",
        "import time\n",
        "\n",
        "def distancia_euclidiana(punto_1, punto_2):\n",
        "  temp = 0\n",
        "  for i in range(len(punto_1)):\n",
        "    temp += (punto_1[i] - punto_2[i])**2\n",
        "\n",
        "  return math.sqrt(temp) \n",
        "\n",
        "\n",
        "def minima_distancia(array):\n",
        "  minima_distancia = 9999\n",
        "  puntos = []\n",
        "  for i in range(0, len(array)-1):\n",
        "    distancia_parcial = distancia_euclidiana(array[i], array[i+1])\n",
        "    if distancia_parcial < minima_distancia:\n",
        "      puntos = [array[i], array[i+1]]\n",
        "      minima_distancia = distancia_parcial\n",
        "\n",
        "  return puntos, minima_distancia\n",
        "\n",
        "lista_2d = [[random.randrange(1, 10000), random.randrange(1, 10000)] for x in range(2000)]\n",
        "\n",
        "start = time.time()\n",
        "merge_sort(lista_2d)\n",
        "dos_puntos, distancia = minima_distancia(lista_2d)\n",
        "stop = time.time()\n",
        "\n",
        "\n",
        "print(f'La distancia minima entre los puntos {dos_puntos} es : {distancia}')\n",
        "print(f'Tiempo de ejecución algoritmo por fuerza bruta: {stop-start}')"
      ],
      "execution_count": 15,
      "outputs": [
        {
          "output_type": "stream",
          "text": [
            "La distancia minima entre los puntos [[8406, 5918], [8408, 5927]] es : 9.219544457292887\n",
            "Tiempo de ejecución algoritmo por fuerza bruta: 0.013436555862426758\n"
          ],
          "name": "stdout"
        }
      ]
    },
    {
      "cell_type": "markdown",
      "metadata": {
        "id": "6XeR_5l9yhoi"
      },
      "source": [
        "# Encontrar los dos puntos más cercanos por Divide y Vencerás Lista 3D "
      ]
    },
    {
      "cell_type": "code",
      "metadata": {
        "colab": {
          "base_uri": "https://localhost:8080/"
        },
        "id": "4ZE1x49xyeta",
        "outputId": "11465ad2-7237-4569-84e5-2f614680e6fc"
      },
      "source": [
        "import random\n",
        "import math\n",
        "import time\n",
        "\n",
        "def minima_distancia(array):\n",
        "  minima_distancia = 9999\n",
        "  puntos = []\n",
        "  for i in range(0, len(array)-1):\n",
        "    distancia_parcial = distancia_euclidiana(array[i], array[i+1])\n",
        "    if distancia_parcial < minima_distancia:\n",
        "      puntos = [array[i], array[i+1]]\n",
        "      minima_distancia = distancia_parcial\n",
        "\n",
        "  return puntos, minima_distancia\n",
        "\n",
        "lista_2d = [[random.randrange(1, 10000), random.randrange(1, 10000), random.randrange(1, 10000)] for x in range(2000)]\n",
        "\n",
        "start = time.time()\n",
        "merge_sort(lista_2d)\n",
        "dos_puntos, distancia = minima_distancia(lista_2d)\n",
        "stop = time.time()\n",
        "\n",
        "\n",
        "print(f'La distancia minima entre los puntos {dos_puntos} es : {distancia}')\n",
        "print(f'Tiempo de ejecución algoritmo por fuerza bruta: {stop-start}')"
      ],
      "execution_count": 17,
      "outputs": [
        {
          "output_type": "stream",
          "text": [
            "La distancia minima entre los puntos [[6390, 5975, 9576], [6390, 6051, 9713]] es : 156.66843970627906\n",
            "Tiempo de ejecución algoritmo por fuerza bruta: 0.014549970626831055\n"
          ],
          "name": "stdout"
        }
      ]
    }
  ]
}