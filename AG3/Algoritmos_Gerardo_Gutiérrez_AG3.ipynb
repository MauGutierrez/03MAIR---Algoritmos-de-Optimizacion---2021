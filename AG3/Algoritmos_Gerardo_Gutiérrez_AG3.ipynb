{
  "nbformat": 4,
  "nbformat_minor": 0,
  "metadata": {
    "colab": {
      "name": "Algoritmos - Gerardo Gutiérrez - AG3.ipynb",
      "provenance": [],
      "collapsed_sections": [],
      "authorship_tag": "ABX9TyOk/xc5Z+Cf94QPDHu1C+hi",
      "include_colab_link": true
    },
    "kernelspec": {
      "name": "python3",
      "display_name": "Python 3"
    },
    "language_info": {
      "name": "python"
    }
  },
  "cells": [
    {
      "cell_type": "markdown",
      "metadata": {
        "id": "view-in-github",
        "colab_type": "text"
      },
      "source": [
        "<a href=\"https://colab.research.google.com/github/MauGutierrez/03MAIR---Algoritmos-de-Optimizacion---2021/blob/main/AG3/Algoritmos_Gerardo_Guti%C3%A9rrez_AG3.ipynb\" target=\"_parent\"><img src=\"https://colab.research.google.com/assets/colab-badge.svg\" alt=\"Open In Colab\"/></a>"
      ]
    },
    {
      "cell_type": "markdown",
      "metadata": {
        "id": "g4_gRIxKG5c2"
      },
      "source": [
        "**Actividad Guiada 3 de Algoritmos de Optimización**\n",
        "\n",
        "- **Nombre y apellidos:** Gerardo Mauricio Gutierrez Quintana\n",
        "- **URL Colab:** https://colab.research.google.com/drive/1oaqkKh7OmyfPJHgnMnS-E2GNZ2oqbZFn?usp=sharing\n",
        "- **URL Github:** https://github.com/MauGutierrez/03MAIR---Algoritmos-de-Optimizacion---2021/tree/main/AG3"
      ]
    },
    {
      "cell_type": "code",
      "metadata": {
        "colab": {
          "base_uri": "https://localhost:8080/"
        },
        "id": "o5i33VsnIKGH",
        "outputId": "ed271eda-7012-4e62-c694-4289611250d6"
      },
      "source": [
        "!pip install requests\n",
        "!pip install tsplib95"
      ],
      "execution_count": 1,
      "outputs": [
        {
          "output_type": "stream",
          "text": [
            "Requirement already satisfied: requests in /usr/local/lib/python3.7/dist-packages (2.23.0)\n",
            "Requirement already satisfied: idna<3,>=2.5 in /usr/local/lib/python3.7/dist-packages (from requests) (2.10)\n",
            "Requirement already satisfied: urllib3!=1.25.0,!=1.25.1,<1.26,>=1.21.1 in /usr/local/lib/python3.7/dist-packages (from requests) (1.24.3)\n",
            "Requirement already satisfied: chardet<4,>=3.0.2 in /usr/local/lib/python3.7/dist-packages (from requests) (3.0.4)\n",
            "Requirement already satisfied: certifi>=2017.4.17 in /usr/local/lib/python3.7/dist-packages (from requests) (2021.5.30)\n",
            "Collecting tsplib95\n",
            "  Downloading https://files.pythonhosted.org/packages/a0/2b/b1932d3674758ec5f49afa72d4519334a5ac2aac4d96cfd416eb872a1959/tsplib95-0.7.1-py2.py3-none-any.whl\n",
            "Requirement already satisfied: Click>=6.0 in /usr/local/lib/python3.7/dist-packages (from tsplib95) (7.1.2)\n",
            "Requirement already satisfied: tabulate~=0.8.7 in /usr/local/lib/python3.7/dist-packages (from tsplib95) (0.8.9)\n",
            "Requirement already satisfied: networkx~=2.1 in /usr/local/lib/python3.7/dist-packages (from tsplib95) (2.5.1)\n",
            "Collecting Deprecated~=1.2.9\n",
            "  Downloading https://files.pythonhosted.org/packages/fb/73/994edfcba74443146c84b91921fcc269374354118d4f452fb0c54c1cbb12/Deprecated-1.2.12-py2.py3-none-any.whl\n",
            "Requirement already satisfied: decorator<5,>=4.3 in /usr/local/lib/python3.7/dist-packages (from networkx~=2.1->tsplib95) (4.4.2)\n",
            "Requirement already satisfied: wrapt<2,>=1.10 in /usr/local/lib/python3.7/dist-packages (from Deprecated~=1.2.9->tsplib95) (1.12.1)\n",
            "Installing collected packages: Deprecated, tsplib95\n",
            "Successfully installed Deprecated-1.2.12 tsplib95-0.7.1\n"
          ],
          "name": "stdout"
        }
      ]
    },
    {
      "cell_type": "code",
      "metadata": {
        "colab": {
          "base_uri": "https://localhost:8080/"
        },
        "id": "tUWcnOeiIQpc",
        "outputId": "d957c761-3d80-4c7f-fe76-33ee01d4b2f2"
      },
      "source": [
        "import numpy as np\n",
        "import matplotlib.pyplot as plt\n",
        "# Libreria usada para construir las imagenes con gif\n",
        "import imageio\n",
        "# Libreria usada para descargar ficheros generados con google colab\n",
        "from google.colab import files\n",
        "# Libreria usada para generar carpetas y ficheros temporales\n",
        "from tempfile import mkstemp\n",
        "# Libreria usada para generar valores aleatorios\n",
        "import random\n",
        "\n",
        "import urllib.request\n",
        "import tsplib95\n",
        "import math\n",
        "\n",
        "#http://elib.zib.de/pub/mp-testdata/tsp/tsplib/\n",
        "#Documentacion : \n",
        "  # http://comopt.ifi.uni-heidelberg.de/software/TSPLIB95/tsp95.pdf\n",
        "  # https://tsplib95.readthedocs.io/en/stable/pages/usage.html\n",
        "  # https://tsplib95.readthedocs.io/en/v0.6.1/modules.html\n",
        "  # https://pypi.org/project/tsplib95/\n",
        "\n",
        "#Descargamos el fichero de datos(Matriz de distancias)\n",
        "file = \"swiss42.tsp\" ; \n",
        "urllib.request.urlretrieve(\"http://elib.zib.de/pub/mp-testdata/tsp/tsplib/tsp/swiss42.tsp\", file) \n",
        "\n",
        "#Coordendas 51-city problem (Christofides/Eilon)\n",
        "#file = \"eil51.tsp\" ; urllib.request.urlretrieve(\"http://elib.zib.de/pub/mp-testdata/tsp/tsplib/tsp/eil51.tsp\", file)\n",
        "\n",
        "#Coordenadas - 48 capitals of the US (Padberg/Rinaldi)\n",
        "#file = \"att48.tsp\" ; urllib.request.urlretrieve(\"http://elib.zib.de/pub/mp-testdata/tsp/tsplib/tsp/att48.tsp\", file)"
      ],
      "execution_count": 3,
      "outputs": [
        {
          "output_type": "execute_result",
          "data": {
            "text/plain": [
              "('swiss42.tsp', <http.client.HTTPMessage at 0x7f1621a53750>)"
            ]
          },
          "metadata": {
            "tags": []
          },
          "execution_count": 3
        }
      ]
    },
    {
      "cell_type": "code",
      "metadata": {
        "colab": {
          "base_uri": "https://localhost:8080/"
        },
        "id": "y9zPIT9oIhp3",
        "outputId": "bfa77c7a-ca84-4211-869e-5d5ed15f426f"
      },
      "source": [
        "# Carga de datos\n",
        "problem = tsplib95.load(file)\n",
        "\n",
        "# Nodos\n",
        "Nodos = list(problem.get_nodes())\n",
        "\n",
        "# aristas\n",
        "aristas = list(problem.get_edges())\n",
        "\n",
        "# Probamos algunas funciones del objeto problem\n",
        "\n",
        "# Distancia entre nodos\n",
        "problem.get_weight(0, 1)"
      ],
      "execution_count": 36,
      "outputs": [
        {
          "output_type": "execute_result",
          "data": {
            "text/plain": [
              "15"
            ]
          },
          "metadata": {
            "tags": []
          },
          "execution_count": 36
        }
      ]
    },
    {
      "cell_type": "code",
      "metadata": {
        "id": "ZafnHujFJpo2"
      },
      "source": [
        "# Funciones básicas\n",
        "\n",
        "# Se genera una solucion aleatoria con comienzo en el nodo 0\n",
        "def crear_solucion(Nodos):\n",
        "  solucion = [Nodos[0]]\n",
        "  for n in Nodos[1:]:\n",
        "    solucion = solucion + [random.choice(list(set(Nodos) - set({Nodos[0]}) -set(solucion)))]\n",
        "  \n",
        "  return solucion\n",
        "\n",
        "# Devuelve la distancia entre dos nodos\n",
        "def distancia(a, b, problem):\n",
        "  return problem.get_weight(a, b)\n",
        "\n",
        "# Devuelve la distancia total de una trayectoria/solucion\n",
        "def distancia_total(solucion, problem):\n",
        "  distancia_total = 0\n",
        "  for i in range(len(solucion)-1):\n",
        "    distancia_total += distancia(solucion[i], solucion[i+1], problem)\n",
        "  \n",
        "  return distancia_total + distancia(solucion[len(solucion)-1], solucion[0], problem)"
      ],
      "execution_count": 37,
      "outputs": []
    },
    {
      "cell_type": "markdown",
      "metadata": {
        "id": "hEHKVq1fKpWd"
      },
      "source": [
        "# Búsqueda Aleatoria"
      ]
    },
    {
      "cell_type": "code",
      "metadata": {
        "colab": {
          "base_uri": "https://localhost:8080/"
        },
        "id": "cVYjpMhOKrcX",
        "outputId": "716d8f34-1cf2-433c-ec9d-574d7eb2e6c3"
      },
      "source": [
        "def busqueda_aleatoria(problem, N):\n",
        "  Nodos = list(problem.get_nodes())\n",
        "\n",
        "  mejor_solucion = []\n",
        "  mejor_distancia = float('inf')\n",
        "\n",
        "  for i in range(N):\n",
        "    solucion = crear_solucion(Nodos)\n",
        "    distancia = distancia_total(solucion, problem)\n",
        "\n",
        "    if distancia < mejor_distancia:\n",
        "      mejor_solucion = solucion\n",
        "      mejor_distancia = distancia\n",
        "  \n",
        "  print(f'Mejor solución: {mejor_solucion}')\n",
        "  print(f'Distancia     : {mejor_distancia}')\n",
        "  return mejor_solucion\n",
        "\n",
        "solucion = busqueda_aleatoria(problem, 5000)"
      ],
      "execution_count": 38,
      "outputs": [
        {
          "output_type": "stream",
          "text": [
            "Mejor solución: [0, 2, 28, 1, 18, 14, 39, 30, 9, 3, 5, 19, 23, 35, 40, 24, 22, 29, 41, 26, 13, 11, 16, 21, 32, 17, 38, 33, 34, 20, 36, 37, 6, 4, 7, 15, 31, 12, 25, 10, 8, 27]\n",
            "Distancia     : 3706\n"
          ],
          "name": "stdout"
        }
      ]
    },
    {
      "cell_type": "markdown",
      "metadata": {
        "id": "fLBKMgooLh8s"
      },
      "source": [
        "# Búsqueda Local\n"
      ]
    },
    {
      "cell_type": "code",
      "metadata": {
        "colab": {
          "base_uri": "https://localhost:8080/"
        },
        "id": "KcbknqRpLniO",
        "outputId": "e94119eb-901e-4c0c-ce79-8f28236ed4b2"
      },
      "source": [
        "def genera_vecina(solucion):\n",
        "  # Generador de soluciones vecinas: 2-opt (intercambiar 2 nodos) si hay N nodos se generan (N-1)x(N-2)/2 soluciones\n",
        "  # Se puede modificar para aplicar otros generadores distintos que 2-opt\n",
        "  mejor_solucion = []\n",
        "  mejor_distancia = 10e100\n",
        "\n",
        "  for i in range(1, len(solucion)-1):\n",
        "    for j in range(i+1, len(solucion)):\n",
        "      # Se genera una nueva solucion intercambiando los dos nodos i, j\n",
        "      # (usamos el operador + para concatenar las listas): ej.: [1, 2] + [3] = [1, 2, 3]\n",
        "      vecina = solucion[:i] + [solucion[j]] + solucion[i+1:j] + [solucion[i]] + solucion[j+1:]\n",
        "\n",
        "      # Se evalua la nueva solucion\n",
        "      distancia_vecina = distancia_total(vecina, problem)\n",
        "\n",
        "      # Guardamos la mejor solucion\n",
        "      if distancia_vecina <= mejor_distancia:\n",
        "        mejor_distancia = distancia_vecina\n",
        "        mejor_solucion = vecina\n",
        "  \n",
        "  return mejor_solucion\n",
        "\n",
        "print(f'Distancia Solucion Inicial: {distancia_total(solucion, problem)}')\n",
        "nueva_solucion = genera_vecina(solucion)\n",
        "print(f'Distnaica Mejor Solucion Local: {distancia_total(nueva_solucion, problem)}')"
      ],
      "execution_count": 40,
      "outputs": [
        {
          "output_type": "stream",
          "text": [
            "Distancia Solucion Inicial: 3706\n",
            "Distnaica Mejor Solucion Local: 3120\n"
          ],
          "name": "stdout"
        }
      ]
    },
    {
      "cell_type": "code",
      "metadata": {
        "colab": {
          "base_uri": "https://localhost:8080/"
        },
        "id": "jZ07B_VSPBk2",
        "outputId": "d9590aad-23a0-475a-f905-10f850f47fee"
      },
      "source": [
        "# Sobre el operador de vecindad 2-opt (funcion genera_vecina)\n",
        "# Sin criterio de parada. Nos detenemos cuando no es posible mjeorar\n",
        "\n",
        "def busqueda_local(problem):\n",
        "  mejor_solucion = []\n",
        "\n",
        "  # Generar una solucion inicial de referencia (aleatoria)\n",
        "  solucion_referencia = crear_solucion(Nodos)\n",
        "  mejor_distancia = distancia_total(solucion_referencia, problem)\n",
        "\n",
        "  # Contador para saber las iteraciones que hemos hecho\n",
        "  iteracion = 0\n",
        "  while 1:\n",
        "    # Incrementamos el contador\n",
        "    iteracion += 1\n",
        "\n",
        "    # Obtenemos la mejor vecina\n",
        "    vecina = genera_vecina(solucion_referencia)\n",
        "\n",
        "    # Evaluamos para ver si mejoramos con respecto a lo encontrado hasta el momento\n",
        "    distancia_vecina = distancia_total(vecina, problem)\n",
        "\n",
        "    # Si no mejoramos, hay que termminar ya que hemos llegado a un mínimo local (según nuestro operador de vecindad de 2-opt)\n",
        "    if distancia_vecina < mejor_distancia:\n",
        "      # Guardamos la mejor solucion encontrada\n",
        "      mejor_solucion = vecina\n",
        "      mejor_distancia = distancia_vecina\n",
        "    \n",
        "    else:\n",
        "      print(f'En la iteracion {iteracion}, la mejor solucion encontrada es: {mejor_solucion}')\n",
        "      print(f'Distancia: {mejor_distancia}')\n",
        "      return mejor_solucion\n",
        "    \n",
        "    solucion_referencia = vecina\n",
        "\n",
        "sol = busqueda_local(problem)"
      ],
      "execution_count": 41,
      "outputs": [
        {
          "output_type": "stream",
          "text": [
            "En la iteracion 44, la mejor solucion encontrada es: [0, 3, 4, 6, 37, 7, 1, 27, 2, 28, 32, 20, 33, 34, 30, 29, 8, 9, 23, 41, 25, 10, 26, 5, 19, 13, 11, 12, 18, 17, 31, 35, 36, 15, 16, 14, 22, 39, 21, 40, 24, 38]\n",
            "Distancia: 1873\n"
          ],
          "name": "stdout"
        }
      ]
    },
    {
      "cell_type": "markdown",
      "metadata": {
        "id": "845ftscARFGb"
      },
      "source": [
        "# Simulated Annealing"
      ]
    },
    {
      "cell_type": "code",
      "metadata": {
        "id": "Nbq4oMs_RHuL"
      },
      "source": [
        "# Generador de 1 solucion vecina 2-opt 100% aleatoria (intercambiar 2 nodos)\n",
        "# Mejorable eligiendo otra forma de elegir una vecina\n",
        "\n",
        "def genera_vecina_aleatoria(solucion):\n",
        "  # Se eligen dos nodos aleatoriamente\n",
        "  i, j = sorted(random.sample(range(1, len(solucion)), 2))\n",
        "\n",
        "  # Devuelve una nueva solución pero intercambiando los dos nodos elegidos al azar\n",
        "  return solucion[:i] + [solucion[j]] + solucion[i+1:j] + [solucion[i]] + solucion[j+1:]"
      ],
      "execution_count": 42,
      "outputs": []
    },
    {
      "cell_type": "code",
      "metadata": {
        "id": "fjK_ICfqR5u3"
      },
      "source": [
        "# Función de probabilidad para aceptar peores soluciones\n",
        "def probabilidad(T, d):\n",
        "  if random.random() < math.exp(-1*d / T):\n",
        "    return True\n",
        "  else:\n",
        "    return False\n",
        "\n",
        "# Función de descenso de temperatura\n",
        "def bajar_temperatura(T):\n",
        "  return T * 0.99"
      ],
      "execution_count": 43,
      "outputs": []
    },
    {
      "cell_type": "code",
      "metadata": {
        "colab": {
          "base_uri": "https://localhost:8080/"
        },
        "id": "LB2akqjTSXtQ",
        "outputId": "3ae34bec-7bc4-4e69-aeac-818015758b41"
      },
      "source": [
        "def recocido_simulado(problem, temperatura):\n",
        "  solucion_referencia = crear_solucion(Nodos)\n",
        "  distancia_referencia = distancia_total(solucion_referencia, problem)\n",
        "\n",
        "  mejor_solucion = []\n",
        "  mejor_distancia = 10e100\n",
        "\n",
        "  N = 0\n",
        "  while temperatura > .0001:\n",
        "    N += 1\n",
        "\n",
        "    # Genera una solución vecina\n",
        "    vecina = genera_vecina_aleatoria(solucion_referencia)\n",
        "\n",
        "    # Calcula su valor (distancia)\n",
        "    distancia_vecina = distancia_total(vecina, problem)\n",
        "\n",
        "    # Si es la mejor solucion de todas se guarda siempre\n",
        "    if distancia_vecina < mejor_distancia:\n",
        "      mejor_solucion = vecina\n",
        "      mejor_distancia = distancia_vecina\n",
        "    \n",
        "    # Si la nueva vecina es mejor, la cambiamos\n",
        "    # Si es peor, la cambiamos según la probabilidad que depende de T y delta (distancia_referencia - distancia_vecina)\n",
        "    if distancia_vecina < distancia_referencia or probabilidad(temperatura, abs(distancia_referencia - distancia_vecina)):\n",
        "      solucion_referencia = vecina\n",
        "      distancia_referencia = distancia_vecina\n",
        "    \n",
        "    # Bajamos la temperatura\n",
        "    temperatura = bajar_temperatura(temperatura)\n",
        "  \n",
        "  print(f'La mejor solucion encontrada es {mejor_solucion}') \n",
        "  print(f'Distancia: {mejor_distancia}')\n",
        "  return mejor_solucion\n",
        "\n",
        "sol = recocido_simulado(problem, 10000000)"
      ],
      "execution_count": 44,
      "outputs": [
        {
          "output_type": "stream",
          "text": [
            "La mejor solucion encontrada es [0, 1, 5, 6, 16, 13, 19, 14, 15, 31, 33, 34, 3, 7, 37, 17, 36, 35, 20, 32, 38, 39, 22, 21, 24, 40, 23, 41, 10, 25, 11, 12, 18, 26, 4, 8, 9, 29, 30, 2, 27, 28]\n",
            "Distancia: 1839\n"
          ],
          "name": "stdout"
        }
      ]
    },
    {
      "cell_type": "markdown",
      "metadata": {
        "id": "x3GvS3fJWTUk"
      },
      "source": [
        "# Colonia de Hormigas"
      ]
    },
    {
      "cell_type": "code",
      "metadata": {
        "id": "ZT8P6c5cVjAy"
      },
      "source": [
        "def add_nodo(problem, H, T):\n",
        "  # Mejora: establecer una función de probabilidad para añadir un nuevo nodo.\n",
        "  # Añadiremos un nuevo nodo dependiendo de los nodos más cercanos y de las feromonas depositadas\n",
        "  Nodos = list(problem.get_nodes())\n",
        "  return random.choice(list(set(range(1, len(Nodos))) - set(H)))\n",
        "\n",
        "def incrementa_feromona(problem, T, H):\n",
        "  # Incrementa según la calidad de la solución. Añadir una cantidad inversamente proporcional a la distancia total\n",
        "  for i in range(len(H)-1):\n",
        "    T[H[i]][H[i+1]] += 1000/distancia_total(H, problem)\n",
        "  \n",
        "  return T\n",
        "\n",
        "def evaporar_feromonas(T):\n",
        "  # Evapora 0.3 el valor de la feromona sin que baje de 1\n",
        "  # Mejora: Podemos elegir diferentes funciones de evaporación dependiendo de la cantidad actual y de la suma total de feromonas depositadas\n",
        "  T = [[ max(T[i][j] - 0.3, 1) for i in range(len(Nodos))] for j in range(len(Nodos))]\n",
        "  return T"
      ],
      "execution_count": 46,
      "outputs": []
    },
    {
      "cell_type": "code",
      "metadata": {
        "colab": {
          "base_uri": "https://localhost:8080/"
        },
        "id": "wFcCCzrNYZNR",
        "outputId": "2c740799-5b66-4815-96bd-f6fe9cd87954"
      },
      "source": [
        "def hormigas(problem, N):\n",
        "  # Nodos\n",
        "  Nodos = list(problem.get_nodes())\n",
        "\n",
        "  # Aristas\n",
        "  aristas = list(problem.get_nodes())\n",
        "\n",
        "  # Inicializa las aristas con una cantidad inicial de feromonas = 1\n",
        "  # Mejora: inicializar con valores diferentes dependiendo diferentes criterios\n",
        "  T = [[ 1 for _ in range(len(Nodos)) ] for _ in range(len(Nodos))]\n",
        "\n",
        "  # Se generan los agentes (hormigas) que serán estructuras de caminos desde 0\n",
        "  hormiga = [[0] for _ in range(N)]\n",
        "\n",
        "  # Recorre cada agente construyendo la solucion\n",
        "  for h in range(N):\n",
        "    # Para cada agente se contruye un camino\n",
        "    for i in range(len(Nodos)-1):\n",
        "\n",
        "      # Elige el siguiente nodo\n",
        "      nuevo_nodo = add_nodo(problem, hormiga[h], T)\n",
        "      hormiga[h].append(nuevo_nodo)\n",
        "    \n",
        "    # Incrementa feromonas en esa arista\n",
        "    T = incrementa_feromona(problem, T, hormiga[h])\n",
        "\n",
        "    # Evapora feromonas\n",
        "    T = evaporar_feromonas(T)\n",
        "\n",
        "  # Seleccionamos el mejor agente\n",
        "  mejor_solucion = []\n",
        "  mejor_distancia = 10e100\n",
        "  for h in range(N):\n",
        "    distancia_actual = distancia_total(hormiga[h], problem)\n",
        "    if distancia_actual < mejor_distancia:\n",
        "      mejor_solucion = hormiga[h]\n",
        "      mejor_distancia = distancia_actual\n",
        "  \n",
        "  print(f'La mejor solucion es: {mejor_solucion}')\n",
        "  print(f'Distancia: {mejor_distancia}')\n",
        "\n",
        "\n",
        "hormigas(problem, 1000)"
      ],
      "execution_count": 48,
      "outputs": [
        {
          "output_type": "stream",
          "text": [
            "La mejor solucion es: [0, 7, 5, 20, 23, 16, 37, 10, 27, 1, 19, 25, 26, 31, 36, 17, 2, 28, 24, 14, 40, 22, 38, 39, 29, 9, 21, 35, 33, 32, 34, 4, 3, 6, 15, 12, 41, 8, 30, 18, 13, 11]\n",
            "Distancia: 3880\n"
          ],
          "name": "stdout"
        }
      ]
    },
    {
      "cell_type": "markdown",
      "metadata": {
        "id": "tW-ZR6GbdsS1"
      },
      "source": [
        "# Práctica Individual"
      ]
    },
    {
      "cell_type": "markdown",
      "metadata": {
        "id": "DSRbiNLmd4Dn"
      },
      "source": [
        "# Búsqueda local con Entornos Variables\n",
        "\n",
        "Como bien sabemos, el objetivo principal de los algoritmos de optimización es el de encontrar una solución o un conjunto de soluciones factibles $X$ con las que se pueda optimizar una función $f(x)$. Habrá dos tipos de problemas de optimización, aquellos donde se busque maximizar la función $f(x)$ y por otro lado, aquellos donde se busque minimizar $f(x)$. Un ejemplo muy claro de optimización sería el de la signación de $n$ trabajos a $n$ personas con el objetivo de minimizar el costo total.\n",
        "\n",
        "Dentro de los problemas de optimización es muy común que existan soluciones globales y soluciones locales. Diremos que $X$ es el espacio de soluciones factibles del problema y que $x^*$ será una solución óptima (o mínimo global).\n",
        "\n",
        "Podemos decir que una $x^* \\in X$ es una solución o un mínimo global si no encontramos una $x \\in X$ tal que $f(x) < f(x^*)$. Uno de los inconvenientes de utilizar algoritmos como búsuqueda local, es que podríamos quedar estancados en un mínimo local que no necesariamente sea el mínimo global. Sin embargo, existen alternativas que nos ayudan a continuar nuestra búsqueda después de haber encontrado el primer optimo local. Una de ellas es una metaheurística llamda VNS o Búsqueda por Entornos Variables.\n",
        "\n",
        "Básicamente las metaheurísticas VNS se basan en 3 principios:\n",
        "- Un mínimo local con una estructura de entornos no lo es necesariamente con otra.\n",
        "- Un mínimo global es mínimo local con todas las posibles estructuras de entornos.\n",
        "- Para muchos problemas, los mínimos locales están relativamente próximos entre sí.\n",
        "\n",
        "Podemos decir que el punto 1 y 2 sugieren el uso de varias estructuras de entornos en las búsquedas locales para problemas de optimización, y el punto 3, indica que los óptimos locales proporcionan información acerca del óptimo global.\n",
        "\n",
        "## Referencias\n",
        "\n",
        "Moreno Pérez, J. (2003). _Búsqueda por Entornos Variables para Planificación Logística_. 1-2. https://jamoreno.webs.ull.es/www/papers/VNS2PL.pdf\n"
      ]
    },
    {
      "cell_type": "markdown",
      "metadata": {
        "id": "Q4XV4p7KYtv1"
      },
      "source": [
        "# Recocido Simulado - ¿Se puede mejorar con otra elección no tan aleatoria?\n",
        "\n",
        "Se podría decir que todas las metaheurísticas podrían ser divididas en tres tipos:\n",
        "- Solución Inicial: en este tipo, el resultado del algortimo y el performance se verá afectado por la calidad de una solución inicial.\n",
        "- Selección de vecions: se podría decir que en este tipo lo que se busca es obtener los mejores vecinos que ya que esto podría obtener beneficios como escapar de soluciones optimas locales.\n",
        "- Estrategia de Optimización: en este tipo lo que se busca es obtener el mejor parametro para decidir si aceptamos o rechazamos una solución.\n",
        "\n",
        "De manera resumida, en el paper \"Improving the Neighborhood Selection Strategy in Simulated Annealing Using the Optimal Stopping Problem\", los autores proponen una estrategia para elegir los mejores vecinos haciendo uso del Optimal Stopping Problem.\n",
        "\n",
        "El Optimal Stopping Problem es un problema del tipo de Negative Dynamic Problem que se basa en lo siguiente:\n",
        "\n",
        "- Suponiendo que tenemos un sistema con estados no negativos, en cada sistema tenemos la oportunidad de tomar la decisión de detenernos en el estado $i$ actual y ganar la recompensa correspondiente $R(i)$, o pagar el costo $C(i)$ y continuar el proceso. Si decidimos continuar, el siguiente estado en el que estaremos será el estado $j$ con una probabilidad $P_{ij}$.\n",
        "\n",
        "Ahora, aplicando este problema al Algoritmo de Recocido Simulado, la elección del vecino ya no sería de manera aleatoria, ya que, en cada iteración hasta que alcancemos el criterio de aceptación, para cada estructura de vecinos encontrarmos un valor de Threshold. Una vez que hayamos obtenido este valor, utilizaremos la estructura de vecinos con el mayor valor de Threshold para realizar el cálculo de la solución.\n",
        "\n",
        "# Referencias\n",
        "Alizamir, S. Rebennack, S. Pardalos, P. (2008). \n",
        "_Improving the Neighborhood Selection Strategy in Simulated Annealing Using the Optimal Stopping Problem_. https://www.researchgate.net/publication/221787142_Improving_the_Neighborhood_Selection_Strategy_in_Simulated_Annealing_Using_the_Optimal_Stopping_Problem"
      ]
    }
  ]
}